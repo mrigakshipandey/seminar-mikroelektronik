{
  "nbformat": 4,
  "nbformat_minor": 0,
  "metadata": {
    "colab": {
      "provenance": [],
      "authorship_tag": "ABX9TyOAIxxNbl0xaMJ+2H6VwitQ",
      "include_colab_link": true
    },
    "kernelspec": {
      "name": "python3",
      "display_name": "Python 3"
    },
    "language_info": {
      "name": "python"
    }
  },
  "cells": [
    {
      "cell_type": "markdown",
      "metadata": {
        "id": "view-in-github",
        "colab_type": "text"
      },
      "source": [
        "<a href=\"https://colab.research.google.com/github/mrigakshipandey/seminar-mikroelektronik/blob/main/Task_2_LLaMa_2.ipynb\" target=\"_parent\"><img src=\"https://colab.research.google.com/assets/colab-badge.svg\" alt=\"Open In Colab\"/></a>"
      ]
    },
    {
      "cell_type": "markdown",
      "source": [
        "# LLama 2\n",
        "Running LLaMa 2 on CPU would require quantization.\n",
        "\n",
        "We are using a quantized version provided [here](https://huggingface.co/TheBloke/Llama-2-13B-Ensemble-v6-GGUF).\n",
        "\n",
        "Since Quantization is orthogonal to CirCNN based pruning it should pose no problem."
      ],
      "metadata": {
        "id": "0NsWgUAXftdI"
      }
    },
    {
      "cell_type": "code",
      "execution_count": null,
      "metadata": {
        "id": "QkGbEWECJedZ"
      },
      "outputs": [],
      "source": [
        "!pip install ctransformers>=0.2.24"
      ]
    },
    {
      "cell_type": "code",
      "source": [
        "from ctransformers import AutoModelForCausalLM\n",
        "\n",
        "# Set gpu_layers to the number of layers to offload to GPU. Set to 0 if no GPU acceleration is available on your system.\n",
        "llm = AutoModelForCausalLM.from_pretrained(\"TheBloke/Llama-2-13B-Ensemble-v5-GGUF\", model_file=\"llama-2-13b-ensemble-v5.Q5_K_M.gguf\", model_type=\"llama\", gpu_layers=0)\n"
      ],
      "metadata": {
        "id": "qiMN6DkRNuot"
      },
      "execution_count": null,
      "outputs": []
    },
    {
      "cell_type": "code",
      "source": [
        "print(llm(\"The model LLama 2\"))"
      ],
      "metadata": {
        "id": "R-QGRT_yN3lp"
      },
      "execution_count": null,
      "outputs": []
    },
    {
      "cell_type": "markdown",
      "source": [
        "It took about 6 minutes and answer doesn't seem very accurate."
      ],
      "metadata": {
        "id": "qwmnXdp0h7I0"
      }
    },
    {
      "cell_type": "code",
      "source": [],
      "metadata": {
        "id": "9C99tVT3BCW_"
      },
      "execution_count": null,
      "outputs": []
    }
  ]
}